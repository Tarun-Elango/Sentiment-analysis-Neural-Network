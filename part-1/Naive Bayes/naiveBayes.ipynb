{
  "cells": [
    {
      "cell_type": "code",
      "execution_count": 1,
      "metadata": {
        "colab": {
          "base_uri": "https://localhost:8080/"
        },
        "id": "Z72gnHghLJne",
        "outputId": "a5a9f7e0-8d56-4b4f-9a59-aa23728075c2"
      },
      "outputs": [
        {
          "output_type": "stream",
          "name": "stdout",
          "text": [
            "size of vocab from count vectorizer is  30449\n"
          ]
        }
      ],
      "source": [
        "from sklearn.metrics import accuracy_score\n",
        "from sklearn.model_selection import train_test_split, GridSearchCV\n",
        "from sklearn.naive_bayes import MultinomialNB\n",
        "from sklearn.feature_extraction.text import CountVectorizer\n",
        "import pandas as pd\n",
        "from sklearn.metrics import classification_report, confusion_matrix\n",
        "import numpy as np\n",
        "\n",
        "performance = open(\"performance Naive Bayes.txt\", \"w\")\n",
        "file = open('data.csv', encoding=\"utf-8\")\n",
        "data = pd.read_csv(file, names=['post', 'emotion','sentiment'], header=0)\n",
        "\n",
        "# set the hyperparameters gridsearchCV\n",
        "hyperparameters = {\n",
        "    'alpha': [0, 0.3, 0.5, 0.7,1], # alpha is for smoothing, best for emotion 0.5, best for sentiment 0.7\n",
        "                                # setting 0, causes a user warning \n",
        "}\n",
        "\n",
        "# use countvectorizer\n",
        "vectorizer = CountVectorizer()\n",
        "\n",
        "# seperate the columns\n",
        "df_x = data['post']\n",
        "df_y = data['emotion'].tolist()\n",
        "df_z = data['sentiment'].tolist()\n",
        "\n",
        "# get the feature vector of the posts\n",
        "X = vectorizer.fit_transform(df_x)\n",
        "performance.write(\"Naive bayes performance stats\")\n",
        "performance.write('\\n\\n')\n",
        "performance.write(\"2.1 size of vocab from count vectorizer: \")\n",
        "performance.write( str(len(vectorizer.get_feature_names_out())))\n",
        "performance.write('\\n')\n",
        "print(\"size of vocab from count vectorizer is \", str(len(vectorizer.get_feature_names_out()))) # len of all the words\n"
      ]
    },
    {
      "cell_type": "markdown",
      "source": [],
      "metadata": {
        "id": "7XCumAL-N7YY"
      }
    },
    {
      "cell_type": "code",
      "execution_count": null,
      "metadata": {
        "id": "wToMapEaLWJY"
      },
      "outputs": [],
      "source": [
        "#_________________________________emotion__________________________________________\n",
        "x_train, x_test, y_train, y_test= train_test_split(X,df_y, test_size=0.2, random_state=50)\n",
        "# 2.2 split dataset into training (80%) and testing (20%), random value to keep the set deterministic\n",
        "classifierEmo = MultinomialNB() # multinomial naive bayes base parameters\n",
        "\n",
        "# model for default naive bayes and predict\n",
        "model_emotion = classifierEmo.fit(x_train, y_train)\n",
        "predictEmoNB = model_emotion.predict(x_test)\n",
        "print('default Naive bayes emotion accuracy score', accuracy_score(y_test,predictEmoNB))\n",
        "performance.write('default Naive bayes emotion accuracy score :')\n",
        "performance.write(str(accuracy_score(y_test,predictEmoNB)))\n",
        "confusionMatrixEmotion= confusion_matrix(y_test,predictEmoNB)\n",
        "classificationReportEmotion = classification_report(y_test,predictEmoNB, zero_division=0)#warning occurs when model hasn't predicted a label, hence when making a report causes zero division warning\n",
        "print(confusionMatrixEmotion)\n",
        "print(classificationReportEmotion)\n",
        "\n",
        "performance.write('\\n\\n classification report of default naive bayes for emotion\\n')\n",
        "performance.write(classificationReportEmotion)\n",
        "performance.write('\\n\\n confusion matrix of default naive bayes for emotion\\n')\n",
        "npMatrix = np.array2string(confusionMatrixEmotion)\n",
        "performance.write(npMatrix)\n",
        "performance.write('\\n\\n-------------------------x-------------------------')"
      ]
    },
    {
      "cell_type": "code",
      "source": [
        "# model for naive bayes using the gridsearchCV parameters and predict\n",
        "grid = GridSearchCV(estimator = classifierEmo, param_grid = hyperparameters) # set the grid search parameters\n",
        "model_emotion_grid = grid.fit(x_train,y_train)\n",
        "predictEmoNBCV = model_emotion_grid.predict(x_test)\n",
        "print('best parameters', grid.best_params_)\n",
        "print('gridsearchCV Naive bayes emotion accuracy score', accuracy_score(y_test,predictEmoNBCV))\n",
        "performance.write('\\n\\ngridsearchCV (alpha value of 0.5) Naive bayes emotion accuracy score :')\n",
        "performance.write(str(accuracy_score(y_test,predictEmoNBCV)))\n",
        "confusionMatrixEmotionCV= confusion_matrix(y_test,predictEmoNBCV)\n",
        "classificationReportEmotionCV = classification_report(y_test,predictEmoNBCV,zero_division=0)\n",
        "print(confusionMatrixEmotionCV)\n",
        "print(classificationReportEmotionCV)\n",
        "performance.write('\\n\\n classification report of grid search naive bayes (alpha value of 0.5) for emotion\\n')\n",
        "performance.write(classificationReportEmotionCV)\n",
        "performance.write('\\n\\n confusion matrix of grid search naive bayes (alpha value of 0.5) naive bayes for emotion\\n')\n",
        "npMatrixCV = np.array2string(confusionMatrixEmotionCV)\n",
        "performance.write(npMatrixCV)\n",
        "performance.write('\\n\\n-------------------------x-------------------------')"
      ],
      "metadata": {
        "id": "OXptHLHaFH7w"
      },
      "execution_count": null,
      "outputs": []
    },
    {
      "cell_type": "code",
      "source": [
        "#___________________________________sentiment_____________________________________________\n",
        "x2_train, x2_test, z_train, z_test= train_test_split(X,df_z, test_size=0.2, random_state=50)\n",
        "classifierse = MultinomialNB()# multinomial naive bayes classifier\n",
        "\n",
        "# model for default naive bayes and predict\n",
        "model_sentiment = classifierse.fit(x2_train, z_train)\n",
        "predictSentNB = model_sentiment.predict(x2_test)\n",
        "print('default Naive bayes sentiment accuracy score', accuracy_score(z_test,predictSentNB))\n",
        "performance.write('\\n\\ndefault Naive bayes sentiment accuracy score :')\n",
        "performance.write(str(accuracy_score(z_test,predictSentNB)))\n",
        "confusionMatrixSent= confusion_matrix(z_test,predictSentNB)\n",
        "classificationReportSent = classification_report(z_test,predictSentNB,zero_division=0)\n",
        "print(confusionMatrixSent)\n",
        "print(classificationReportSent)\n",
        "performance.write('\\n\\n classification report of default naive bayes for sentiment\\n')\n",
        "performance.write(classificationReportSent)\n",
        "performance.write('\\n\\n confusion matrix of default naive bayes for sentiment\\n')\n",
        "npMatrixSent = np.array2string(confusionMatrixSent)\n",
        "performance.write(npMatrixSent)\n",
        "performance.write('\\n\\n-------------------------x-------------------------')"
      ],
      "metadata": {
        "id": "N9hzXBWxF9vG"
      },
      "execution_count": null,
      "outputs": []
    },
    {
      "cell_type": "code",
      "source": [
        "# model for naive bayes using the gridsearchCV parameters and predict\n",
        "gridse = GridSearchCV(estimator = classifierse, param_grid = hyperparameters)\n",
        "model_sentiment_CV = gridse.fit(x2_train, z_train)\n",
        "predictSentNBCV = model_sentiment_CV.predict(x2_test)\n",
        "print('best parameters', gridse.best_params_)\n",
        "print('gridsearch Naive bayes sentiment accuracy score', accuracy_score(z_test,predictSentNBCV))\n",
        "performance.write('\\n\\ngridsearch (alpha value of 0.7) Naive bayes sentiment accuracy score :')\n",
        "performance.write(str(accuracy_score(z_test,predictSentNBCV)))\n",
        "performance.write('\\n')\n",
        "performance.write('\\n')\n",
        "confusionMatrixSentCV= confusion_matrix(z_test,predictSentNBCV)\n",
        "classificationReportSentCV = classification_report(z_test,predictSentNBCV,zero_division=0)\n",
        "print(confusionMatrixSentCV)\n",
        "print(classificationReportSentCV)\n",
        "performance.write('\\n\\n classification report of grid search naive bayes (alpha value of 0.7) for sentiment\\n')\n",
        "performance.write(classificationReportSentCV)\n",
        "performance.write('\\n\\n confusion matrix of grid search naive bayes (alpha value of 0.7) naive bayes for sentiment\\n')\n",
        "npMatrixSentCV = np.array2string(confusionMatrixSentCV)\n",
        "performance.write(npMatrixSentCV)\n",
        "performance.close()"
      ],
      "metadata": {
        "id": "1WMDHuc0HIVe"
      },
      "execution_count": null,
      "outputs": []
    },
    {
      "cell_type": "code",
      "source": [
        "\n"
      ],
      "metadata": {
        "id": "XxC3l1FwIkbH"
      },
      "execution_count": null,
      "outputs": []
    }
  ],
  "metadata": {
    "colab": {
      "provenance": [],
      "collapsed_sections": []
    },
    "kernelspec": {
      "display_name": "Python 3",
      "name": "python3"
    },
    "language_info": {
      "name": "python"
    }
  },
  "nbformat": 4,
  "nbformat_minor": 0
}