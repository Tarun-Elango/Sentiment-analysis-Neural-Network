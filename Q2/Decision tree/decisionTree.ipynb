{
  "nbformat": 4,
  "nbformat_minor": 0,
  "metadata": {
    "colab": {
      "provenance": [],
      "collapsed_sections": []
    },
    "kernelspec": {
      "name": "python3",
      "display_name": "Python 3"
    },
    "language_info": {
      "name": "python"
    }
  },
  "cells": [
    {
      "cell_type": "code",
      "source": [
        "import numpy as np\n",
        "from sklearn import tree\n",
        "from sklearn.metrics import accuracy_score\n",
        "from sklearn.model_selection import train_test_split\n",
        "from sklearn.naive_bayes import MultinomialNB\n",
        "from sklearn.feature_extraction.text import TfidfVectorizer, CountVectorizer\n",
        "import pandas as pd\n",
        "from sklearn.preprocessing import LabelEncoder\n",
        "from sklearn.model_selection import GridSearchCV\n",
        "from sklearn.metrics import confusion_matrix,classification_report\n",
        "\n",
        "performance = open(\"performance decision tree.txt\", \"w\")\n",
        "\n",
        "# set the hyperparameters gridsearchCV\n",
        "hyperparameters = {\n",
        "    'criterion': ['entropy','gini'], # entropy, gini (gini gives best result) specifies how the tree is partitioned\n",
        "    'max_depth': [20,50], #deeper tress get more intricate (20,50) (50 gives best result)\n",
        "    'min_samples_split':[2,5] # (1,2,5) (2 gives best result) specifies min samples before splitting a node\n",
        "\n",
        "}\n",
        "file = open('data.csv', encoding=\"utf-8\")\n",
        "data = pd.read_csv(file, names=['post', 'emotion','sentiment'], header=0)\n",
        "\n",
        "# use countvectorizer and label encoder.\n",
        "vectorizer = CountVectorizer()\n",
        "le = LabelEncoder()\n",
        "\n",
        "df_x = data['post']\n",
        "df_y = data['emotion']\n",
        "df_z = data['sentiment']\n",
        "print(df_x)\n",
        "X = vectorizer.fit_transform(df_x)\n",
        "Y = le.fit_transform(df_y)\n",
        "Z= le.fit_transform(df_z)\n",
        "\n",
        "performance.write('Decision tree performance stats\\n\\n')\n",
        "\n",
      ],
      "metadata": {
        "id": "Lt9vonL5YEC3"
      },
      "execution_count": null,
      "outputs": []
    },
    {
      "cell_type": "code",
      "source": [
        "#_________________________________emotion__________________________________________\n",
        "x_train, x_test, y_train, y_test= train_test_split(X,Y, test_size=0.2,random_state=50)\n",
        "# 2.2 split dataset into training (80%) and testing (20%), random value to keep the set deterministic\n",
        "decisionClassEmo = tree.DecisionTreeClassifier()# decision tree classifier\n",
        "\n",
        "# model for default decision tree and predict\n",
        "model_dec_emo = decisionClassEmo.fit(x_train,y_train)\n",
        "predictEmoDT = model_dec_emo.predict(x_test)\n",
        "print('default decision tree emotion accuracy score', accuracy_score(y_test,predictEmoDT))\n",
        "performance.write('default decision tree emotion accuracy score :')\n",
        "performance.write(str(accuracy_score(y_test,predictEmoDT)))\n",
        "confusionMatrixEmotion= confusion_matrix(y_test,predictEmoDT)\n",
        "classificationReportEmotion = classification_report(y_test,predictEmoDT,zero_division=0)\n",
        "print(classificationReportEmotion)\n",
        "print(confusionMatrixEmotion)\n",
        "performance.write('\\n\\n classification report of default decision tree for emotion\\n')\n",
        "performance.write(classificationReportEmotion)\n",
        "performance.write('\\n\\n confusion matrix of default decision tree for emotion\\n')\n",
        "npMatrix = np.array2string(confusionMatrixEmotion)\n",
        "performance.write(npMatrix)\n",
        "performance.write('\\n\\n-------------------------x-------------------------')"
      ],
      "metadata": {
        "id": "QYLaY61Jbv_e"
      },
      "execution_count": null,
      "outputs": []
    },
    {
      "cell_type": "code",
      "source": [
        "# model for decision tree using the gridsearchCV parameters and predict\n",
        "grid = GridSearchCV(estimator = decisionClassEmo, param_grid = hyperparameters)\n",
        "model_emotion_grid = grid.fit(x_train,y_train)\n",
        "predictEmoDTCV = model_emotion_grid.predict(x_test)\n",
        "print('best parameters', grid.best_params_)\n",
        "print('gridsearchCV decision tree emotion accuracy score', accuracy_score(y_test,predictEmoDTCV))\n",
        "performance.write('\\n\\ngridsearchCV decision tree emotion accuracy score :')\n",
        "performance.write(str(accuracy_score(y_test,predictEmoDTCV)))\n",
        "performance.write('\\n\\ngridsearchCV decision tree emotion best parameters :')\n",
        "performance.write(str( grid.best_params_))\n",
        "confusionMatrixEmotionCV= confusion_matrix(y_test,predictEmoDTCV)\n",
        "classificationReportEmotionCV = classification_report(y_test,predictEmoDTCV,zero_division=0)\n",
        "print(classificationReportEmotion)\n",
        "print(confusionMatrixEmotion)\n",
        "performance.write('\\n\\n classification report of grid search decision tree for emotion\\n')\n",
        "performance.write(classificationReportEmotionCV)\n",
        "performance.write('\\n\\n confusion matrix of grid search decision tree for emotion\\n')\n",
        "npMatrixCv = np.array2string(confusionMatrixEmotionCV)\n",
        "performance.write(npMatrixCv)\n",
        "performance.write('\\n\\n-------------------------x-------------------------')"
      ],
      "metadata": {
        "id": "mADYJ3O_dj2v"
      },
      "execution_count": null,
      "outputs": []
    },
    {
      "cell_type": "code",
      "source": [
        "#___________________________________sentiment_____________________________________________\n",
        "x2_train, x2_test, z_train, z_test= train_test_split(X,Z, test_size=0.2, random_state=50)\n",
        "decisionclasssent = tree.DecisionTreeClassifier()# decision tree classifier\n",
        "\n",
        "# model for decision tree and predict\n",
        "model_dec_sent = decisionclasssent.fit(x2_train,z_train)\n",
        "predictsentDT = model_dec_sent.predict(x2_test)\n",
        "print('default decision tree sentiment accuracy score', accuracy_score(z_test,predictsentDT))\n",
        "performance.write('\\n\\ndefault decision tree sentiment accuracy score :')\n",
        "performance.write(str(accuracy_score(z_test,predictsentDT)))\n",
        "confusionMatrixsent= confusion_matrix(z_test,predictsentDT)\n",
        "classificationReportsent = classification_report(z_test,predictsentDT,zero_division=0)\n",
        "print(classificationReportsent)\n",
        "print(confusionMatrixsent)\n",
        "performance.write('\\n\\n classification report of default decision tree for sentiment\\n')\n",
        "performance.write(classificationReportsent)\n",
        "performance.write('\\n\\n confusion matrix of default decision tree for sentiment\\n')\n",
        "npMatrixSent = np.array2string(confusionMatrixsent)\n",
        "performance.write(npMatrixSent)\n",
        "performance.write('\\n\\n-------------------------x-------------------------')"
      ],
      "metadata": {
        "id": "-HmF6txCd2d9"
      },
      "execution_count": null,
      "outputs": []
    },
    {
      "cell_type": "code",
      "source": [
        "# model for decision tree using the gridsearchCV parameters and predict\n",
        "gridse = GridSearchCV(estimator = decisionclasssent, param_grid = hyperparameters)\n",
        "model_emotion_grid_CV = gridse.fit(x2_train,z_train)\n",
        "predictsentDTCV = model_emotion_grid_CV.predict(x2_test)\n",
        "print('best parameters', gridse.best_params_)\n",
        "print('gridsearchCV decision tree sentiment accuracy score', accuracy_score(z_test,predictsentDTCV))\n",
        "performance.write('\\n\\ngridsearchCV decision tree sentiment accuracy score :')\n",
        "performance.write(str(accuracy_score(z_test,predictsentDTCV)))\n",
        "performance.write('\\n\\ngridsearchCV decision tree sentiment best parameters :')\n",
        "performance.write(str(gridse.best_params_))\n",
        "confusionMatrixsentCV= confusion_matrix(z_test,predictsentDTCV)\n",
        "classificationReportsentCV = classification_report(z_test,predictsentDTCV,zero_division=0)\n",
        "print(classificationReportsentCV)\n",
        "print(confusionMatrixsentCV)\n",
        "performance.write('\\n\\n classification report of default decision tree for sentiment\\n')\n",
        "performance.write(classificationReportsentCV)\n",
        "performance.write('\\n\\n confusion matrix of default decision tree for sentiment\\n')\n",
        "npMatrixSentCv = np.array2string(confusionMatrixsentCV)\n",
        "performance.write(npMatrixSentCv)\n",
        "\n",
        "performance.close()"
      ],
      "metadata": {
        "id": "osS2RENgd6tU"
      },
      "execution_count": null,
      "outputs": []
    }
  ]
}
