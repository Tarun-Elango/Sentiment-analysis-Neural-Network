{
  "nbformat": 4,
  "nbformat_minor": 0,
  "metadata": {
    "colab": {
      "provenance": [],
      "collapsed_sections": []
    },
    "kernelspec": {
      "name": "python3",
      "display_name": "Python 3"
    },
    "language_info": {
      "name": "python"
    }
  },
  "cells": [
    {
      "cell_type": "code",
      "execution_count": null,
      "metadata": {
        "id": "YEA9-jDtEzup",
        "colab": {
          "base_uri": "https://localhost:8080/"
        },
        "outputId": "80d03c1d-7d52-4224-e6a0-62942e9feeb6"
      },
      "outputs": [
        {
          "output_type": "execute_result",
          "data": {
            "text/plain": [
              "34"
            ]
          },
          "metadata": {},
          "execution_count": 17
        }
      ],
      "source": [
        "import numpy as np\n",
        "from sklearn import neural_network\n",
        "from sklearn.metrics import accuracy_score\n",
        "from sklearn.feature_extraction.text import CountVectorizer\n",
        "import pandas as pd\n",
        "from sklearn.model_selection import train_test_split, GridSearchCV, GridSearchCV\n",
        "from sklearn.preprocessing import LabelEncoder\n",
        "from sklearn.metrics import classification_report, confusion_matrix\n",
        "\n",
        "performance = open(\"performance Neural Network different train-test split (90-10).txt\", \"w\")\n",
        "file = open('data.csv', encoding=\"utf-8\")\n",
        "\n",
        "hyperparameters = {\n",
        "     'activation'     : ['relu','tanh','identity', 'logistic'],\n",
        "    'hidden_layer_sizes': [[30,50],[10,10,10]],#\n",
        "    'solver':[ 'adam','sgd'] # \n",
        "}\n",
        "#stochastic not good, doesnt coverge\n",
        "\n",
        "file = open('data.csv', encoding=\"utf-8\")\n",
        "data = pd.read_csv(file, names=['post', 'emotion','sentiment'], header=0)\n",
        "vectorizer = CountVectorizer()\n",
        "le = LabelEncoder()\n",
        "\n",
        "df_x = data['post']\n",
        "df_y = data['emotion']\n",
        "df_z = data['sentiment']\n",
        "X = vectorizer.fit_transform(df_x)\n",
        "Y = le.fit_transform(df_y)\n",
        "Z= le.fit_transform(df_z)\n",
        "\n",
        "performance.write('Neural Network performance stats\\n\\n')"
      ]
    },
    {
      "cell_type": "code",
      "source": [
        "#________________________________emotion____________________________________________\n",
        "x_train, x_test, y_train, y_test= train_test_split(X,Y, test_size=0.1, random_state=50)\n",
        "neuralEmo = neural_network.MLPClassifier( max_iter=2)\n",
        "model_nn_emo = neuralEmo.fit(x_train,y_train)\n",
        "predictEmo = model_nn_emo.predict(x_test)\n",
        "print('neural network emotion accuracy score', accuracy_score(y_test,predictEmo))\n",
        "performance.write('default neural network emotion accuracy score :')\n",
        "performance.write(str(accuracy_score(y_test,predictEmo)))\n",
        "\n",
        "confusionMatrixEmotion= confusion_matrix(y_test,predictEmo)\n",
        "classificationReportEmotion = classification_report(y_test,predictEmo, zero_division=0)#warning occurs when model hasn't predicted a label, hence when making a report causes zero division warning\n",
        "print(confusionMatrixEmotion)\n",
        "print(classificationReportEmotion)\n",
        "\n",
        "performance.write('\\n\\n classification report of default neural network for emotion\\n')\n",
        "performance.write(classificationReportEmotion)\n",
        "performance.write('\\n\\n confusion matrix of default neural network for emotion\\n')\n",
        "npMatrix = np.array2string(confusionMatrixEmotion)\n",
        "performance.write(npMatrix)\n",
        "performance.write('\\n\\n-------------------------x-------------------------')"
      ],
      "metadata": {
        "id": "QyIZGr2Xy54b"
      },
      "execution_count": null,
      "outputs": []
    },
    {
      "cell_type": "code",
      "source": [
        "# model for neural network using the gridsearchCV parameters and predict emotion\n",
        "grid = GridSearchCV(estimator = neuralEmo, param_grid = hyperparameters)\n",
        "model_nn_emo_cv = grid.fit(x_train,y_train)\n",
        "predictEmoNNCV = model_nn_emo_cv.predict(x_test)\n",
        "print('neural network emotion with grid cv accuracy score', accuracy_score(y_test,predictEmoNNCV))\n",
        "print('neural network emotion with grid cv best parameters ',grid.best_params_)\n",
        "performance.write('\\n\\ngridsearch cv neural network emotion accuracy score :')\n",
        "performance.write(str(accuracy_score(y_test,predictEmoNNCV)))\n",
        "performance.write('\\n\\ngridsearch cv neural network emotion best parameters:')\n",
        "performance.write(str(grid.best_params_))\n",
        "\n",
        "confusionMatrixEmotionCV= confusion_matrix(y_test,predictEmoNNCV)\n",
        "classificationReportEmotionCV = classification_report(y_test,predictEmoNNCV, zero_division=0)#warning occurs when model hasn't predicted a label, hence when making a report causes zero division warning\n",
        "print(confusionMatrixEmotionCV)\n",
        "print(classificationReportEmotionCV)\n",
        "\n",
        "performance.write('\\n\\n classification report of grid search neural network for emotion\\n')\n",
        "performance.write(classificationReportEmotionCV)\n",
        "performance.write('\\n\\n confusion matrix of grid search neural network for emotion\\n')\n",
        "npMatrixCV = np.array2string(confusionMatrixEmotionCV)\n",
        "performance.write(npMatrixCV)\n",
        "performance.write('\\n\\n-------------------------x-------------------------')\n",
        "\n",
        "\n"
      ],
      "metadata": {
        "id": "PMIqqLgW2WOi"
      },
      "execution_count": null,
      "outputs": []
    },
    {
      "cell_type": "code",
      "source": [
        "#_________________________________sentiment_______________________________\n",
        "x2_train, x2_test, z_train, z_test= train_test_split(X,Z, test_size=0.1, random_state=50)\n",
        "neuralclasssentiment = neural_network.MLPClassifier( max_iter=2)\n",
        "model_dec_nn_sent = neuralclasssentiment.fit(x2_train,z_train)\n",
        "predictsent = model_dec_nn_sent.predict(x2_test)\n",
        "print('neural network sentiment accuracy score', accuracy_score(z_test,predictsent))\n",
        "performance.write('\\n\\ndefault neural network sentiment accuracy score :')\n",
        "performance.write(str(accuracy_score(z_test,predictsent)))\n",
        "\n",
        "confusionMatrixSent= confusion_matrix(z_test,predictsent)\n",
        "classificationReportSent = classification_report(z_test,predictsent, zero_division=0)#warning occurs when model hasn't predicted a label, hence when making a report causes zero division warning\n",
        "print(confusionMatrixSent)\n",
        "print(classificationReportSent)\n",
        "\n",
        "performance.write('\\n\\n classification report of default neural network for sentiment\\n')\n",
        "performance.write(classificationReportSent)\n",
        "performance.write('\\n\\n confusion matrix of default neural network for sentiment\\n')\n",
        "npMatrixSent = np.array2string(confusionMatrixSent)\n",
        "performance.write(npMatrixSent)\n",
        "performance.write('\\n\\n-------------------------x-------------------------')\n"
      ],
      "metadata": {
        "id": "c8Crl7m46hn8"
      },
      "execution_count": null,
      "outputs": []
    },
    {
      "cell_type": "code",
      "source": [
        "# model for neural network using the gridsearchCV parameters and predict sentiment\n",
        "gridse = GridSearchCV(estimator = neuralclasssentiment, param_grid = hyperparameters)\n",
        "model_nn_sen_cv = gridse.fit(x2_train,z_train)\n",
        "predictsentNNCV = model_nn_sen_cv.predict(x2_test)\n",
        "print('neural network sentiment accuracy score', accuracy_score(z_test,predictsentNNCV))\n",
        "print('neural network sentiment with grid cv best parameters ',gridse.best_params_)\n",
        "performance.write('\\n\\ngridsearch cv neural network sentiment accuracy score :')\n",
        "performance.write(str(accuracy_score(z_test,predictsentNNCV)))\n",
        "performance.write('\\n\\ngridsearch cv neural network sentiment best parameters:')\n",
        "performance.write(str(gridse.best_params_))\n",
        "\n",
        "confusionMatrixSentCV= confusion_matrix(z_test,predictsentNNCV)\n",
        "classificationReportSentCV = classification_report(z_test,predictsentNNCV, zero_division=0)#warning occurs when model hasn't predicted a label, hence when making a report causes zero division warning\n",
        "print(confusionMatrixSentCV)\n",
        "print(classificationReportSentCV)\n",
        "\n",
        "performance.write('\\n\\n classification report of grid search neural network for sentiment\\n')\n",
        "performance.write(classificationReportSentCV)\n",
        "performance.write('\\n\\n confusion matrix of grid search neural network for sentiment\\n')\n",
        "npMatrixSentCV = np.array2string(confusionMatrixSentCV)\n",
        "performance.write(npMatrixSentCV)\n",
        "performance.write('\\n\\n-------------------------x-------------------------')\n"
      ],
      "metadata": {
        "id": "rPuE82Fu7OHv"
      },
      "execution_count": null,
      "outputs": []
    }
  ]
}